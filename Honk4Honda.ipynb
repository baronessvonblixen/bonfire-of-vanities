{
 "cells": [
  {
   "cell_type": "code",
   "execution_count": 3,
   "metadata": {},
   "outputs": [],
   "source": [
    "#data challenge Honk 4 honda\n",
    "#come up with a presentation to understand demand of hondas in Omaha NE, find other market opportunities\n",
    "\n",
    "#import data\n",
    "\n",
    "import matplotlib.pyplot as plt\n",
    "import numpy as np \n",
    "import pandas as pd\n",
    "import matplotlib\n",
    "\n",
    "df_craigslist_vehicles = pd.read_csv(\"/Users/meghan/Desktop/INSIGHT/craigslistVehicles.csv\")\n",
    "df_craigslist_vehicles_full = pd.read_csv(\"/Users/meghan/Desktop/INSIGHT/craigslistVehiclesFull.csv\")\n"
   ]
  },
  {
   "cell_type": "code",
   "execution_count": 53,
   "metadata": {},
   "outputs": [],
   "source": [
    "#clean data structures\n",
    "#remove city_url, VIN, image_url, desc from craigslist_vehicles\n",
    "#remove url, image_url, county_fips, state_fips, state_name\n",
    "\n",
    "df_craigslist_vehicles_clean = df_craigslist_vehicles.drop(['url', 'city_url', 'VIN', 'image_url', 'desc'], axis=1)\n",
    "\n",
    "df_craigslist_vehicles_full_clean = df_craigslist_vehicles_full.drop(['url', 'image_url', 'vin', 'county_fips', 'state_fips', 'state_name'], axis=1)\n"
   ]
  },
  {
   "cell_type": "code",
   "execution_count": 108,
   "metadata": {},
   "outputs": [
    {
     "name": "stdout",
     "output_type": "stream",
     "text": [
      "          city  price    year   manufacturer                          make  \\\n",
      "9012     omaha  17988  2013.0  mercedes-benz            c-class c300 4mati   \n",
      "9013     omaha  15988  2013.0          dodge    journey r/t all wheel driv   \n",
      "9014     omaha  15988  2012.0          buick    enclave 1 owner awd heated   \n",
      "9015     omaha  15988  2012.0          buick    enclave auto 3.6l v6 awd s   \n",
      "9021     omaha  17988  2010.0            gmc  sierra 1500 sle ext. cab aut   \n",
      "...        ...    ...     ...            ...                           ...   \n",
      "1339542  omaha  32900  2018.0           ford             edge titanium awd   \n",
      "1339543  omaha   9500  2008.0          chevy                     silverado   \n",
      "1339544  omaha  13499  2014.0         subaru                      forester   \n",
      "1339545  omaha   6850  2002.0          chevy                silverado 1500   \n",
      "1339546  omaha   9995  2000.0      chevrolet                      corvette   \n",
      "\n",
      "         condition    cylinders fuel  odometer title_status transmission  \\\n",
      "9012           NaN          NaN  gas   44640.0        clean    automatic   \n",
      "9013           NaN          NaN  gas   63807.0        clean    automatic   \n",
      "9014           NaN          NaN  gas  116081.0        clean    automatic   \n",
      "9015           NaN          NaN  gas  102799.0        clean    automatic   \n",
      "9021           NaN          NaN  gas   87942.0        clean    automatic   \n",
      "...            ...          ...  ...       ...          ...          ...   \n",
      "1339542   like new  6 cylinders  gas   17000.0        clean    automatic   \n",
      "1339543        NaN          NaN  gas       NaN      salvage    automatic   \n",
      "1339544  excellent  4 cylinders  gas   98843.0        clean    automatic   \n",
      "1339545       good  8 cylinders  gas  150000.0        clean    automatic   \n",
      "1339546        NaN  8 cylinders  gas   75946.0      rebuilt    automatic   \n",
      "\n",
      "        drive       size   type paint_color        lat       long county_name  \\\n",
      "9012      NaN        NaN    NaN         NaN  41.134500 -96.245800       Sarpy   \n",
      "9013      NaN        NaN    NaN         NaN  41.134500 -96.245800       Sarpy   \n",
      "9014      NaN        NaN    NaN         NaN  41.134500 -96.245800       Sarpy   \n",
      "9015      NaN        NaN    NaN         NaN  41.134500 -96.245800       Sarpy   \n",
      "9021      NaN        NaN    NaN         NaN  41.134500 -96.245800       Sarpy   \n",
      "...       ...        ...    ...         ...        ...        ...         ...   \n",
      "1339542   4wd   mid-size    SUV       white  41.447333 -97.058414      Colfax   \n",
      "1339543   NaN        NaN    NaN         NaN  41.545400 -96.161700  Washington   \n",
      "1339544   NaN   mid-size    SUV         NaN  41.256198 -96.023393     Douglas   \n",
      "1339545   4wd  full-size  truck        blue  41.932544 -96.463302        Burt   \n",
      "1339546   rwd        NaN  coupe      silver  41.207382 -96.023096     Douglas   \n",
      "\n",
      "        state_code  weather  \n",
      "9012            NE     46.0  \n",
      "9013            NE     46.0  \n",
      "9014            NE     46.0  \n",
      "9015            NE     46.0  \n",
      "9021            NE     46.0  \n",
      "...            ...      ...  \n",
      "1339542         NE     46.0  \n",
      "1339543         NE     46.0  \n",
      "1339544         NE     46.0  \n",
      "1339545         NE     46.0  \n",
      "1339546         NE     46.0  \n",
      "\n",
      "[6490 rows x 20 columns]\n",
      "          city  price    year manufacturer                        make  \\\n",
      "9039     omaha  10988  2009.0        honda  accord ex-l auto v6 sedan!   \n",
      "9242     omaha   2000  2001.0        honda                    civic lx   \n",
      "9353     omaha   6650  2006.0        honda                odyssey ex-l   \n",
      "9499     omaha   5800  2007.0        honda                         crv   \n",
      "9552     omaha    700  1996.0        honda         accord 4-door sedan   \n",
      "...        ...    ...     ...          ...                         ...   \n",
      "1339422  omaha   8800  2010.0        honda                        cr-v   \n",
      "1339431  omaha   6900  2012.0        honda                       civic   \n",
      "1339475  omaha  14995  2015.0        honda                 civic sedan   \n",
      "1339480  omaha  14995  2015.0        honda                civic hybrid   \n",
      "1339537  omaha  10495  2009.0        honda              accord ex-l v6   \n",
      "\n",
      "         condition    cylinders    fuel  odometer title_status transmission  \\\n",
      "9039           NaN          NaN     gas  118363.0        clean    automatic   \n",
      "9242          fair  4 cylinders     gas  214000.0        clean    automatic   \n",
      "9353     excellent  6 cylinders     gas  146000.0        clean    automatic   \n",
      "9499           NaN          NaN     gas       NaN      salvage    automatic   \n",
      "9552          fair  4 cylinders     gas       NaN        clean    automatic   \n",
      "...            ...          ...     ...       ...          ...          ...   \n",
      "1339422  excellent  4 cylinders     gas   98532.0        clean    automatic   \n",
      "1339431        NaN          NaN     gas       NaN        clean    automatic   \n",
      "1339475        NaN  4 cylinders     gas   37041.0      rebuilt       manual   \n",
      "1339480        NaN  4 cylinders  hybrid   37203.0        clean    automatic   \n",
      "1339537        NaN          NaN     gas  111000.0        clean    automatic   \n",
      "\n",
      "        drive       size   type paint_color        lat       long county_name  \\\n",
      "9039      NaN        NaN    NaN         NaN  41.134500 -96.245800       Sarpy   \n",
      "9242      fwd    compact  coupe         red  41.295500 -96.100800     Douglas   \n",
      "9353      fwd  full-size    van      silver  41.212606 -95.974555     Douglas   \n",
      "9499      NaN        NaN    NaN         NaN  41.188120 -95.963310       Sarpy   \n",
      "9552      fwd        NaN  sedan      silver  41.519224 -96.421905  Washington   \n",
      "...       ...        ...    ...         ...        ...        ...         ...   \n",
      "1339422   NaN        NaN    NaN         NaN  41.210400 -96.169800     Douglas   \n",
      "1339431   NaN        NaN    NaN         NaN  40.847300 -96.628900   Lancaster   \n",
      "1339475   fwd        NaN  sedan        blue  41.207382 -96.023096     Douglas   \n",
      "1339480   fwd        NaN  sedan       black  41.207382 -96.023096     Douglas   \n",
      "1339537   fwd        NaN  sedan       white  41.401841 -99.650610      Custer   \n",
      "\n",
      "        state_code  weather  \n",
      "9039            NE     46.0  \n",
      "9242            NE     46.0  \n",
      "9353            NE     46.0  \n",
      "9499            NE     46.0  \n",
      "9552            NE     46.0  \n",
      "...            ...      ...  \n",
      "1339422         NE     46.0  \n",
      "1339431         NE     46.0  \n",
      "1339475         NE     46.0  \n",
      "1339480         NE     46.0  \n",
      "1339537         NE     46.0  \n",
      "\n",
      "[313 rows x 20 columns]\n"
     ]
    },
    {
     "data": {
      "image/png": "[encoded data removed]",
      "text/plain": [
       "<Figure size 432x288 with 1 Axes>"
      ]
     },
     "metadata": {
      "needs_background": "light"
     },
     "output_type": "display_data"
    }
   ],
   "source": [
    "#look at what is going on with omaha vs. others\n",
    "#begin by sorting out omaha vehicles (6940 of them)\n",
    "\n",
    "df_craigslist_omaha= df_craigslist_vehicles_full_clean[(df_craigslist_vehicles_full_clean.city=='omaha') & (df_craigslist_vehicles_full_clean.state_code=='NE')]\n",
    "print(df_craigslist_omaha)\n",
    "#df for honda\n",
    "\n",
    "df_craigslist_omaha_honda = df_craigslist_omaha[df_craigslist_omaha.manufacturer=='honda']\n",
    "print(df_craigslist_omaha_honda)\n",
    "#make equal sized dataframe of other competitors\n",
    "\n",
    "df_craigslist_omaha_not_honda = df_craigslist_omaha[df_craigslist_omaha.manufacturer!='honda'].sample(n=313)\n",
    "\n",
    "#check for sig with features #price\n",
    "plt.style.use('seaborn-deep')\n",
    "bins = np.linspace(0, 50000, 50)\n",
    "plt.hist(df_craigslist_omaha_not_honda['price'], bins, label='not honda')\n",
    "plt.hist(df_craigslist_omaha_honda['price'], bins, label='honda')\n",
    "plt.show()"
   ]
  },
  {
   "cell_type": "code",
   "execution_count": 97,
   "metadata": {},
   "outputs": [
    {
     "data": {
      "image/png": "[encoded data removed]",
      "text/plain": [
       "<Figure size 432x288 with 1 Axes>"
      ]
     },
     "metadata": {
      "needs_background": "light"
     },
     "output_type": "display_data"
    }
   ],
   "source": [
    "#check for sig with features #year\n",
    "plt.style.use('seaborn-deep')\n",
    "bins = np.linspace(1950, 2020, 50)\n",
    "plt.hist(df_craigslist_omaha_not_honda['year'], bins, label='not honda')\n",
    "plt.hist(df_craigslist_omaha_honda['year'], bins, label='honda')\n",
    "plt.show()\n"
   ]
  },
  {
   "cell_type": "code",
   "execution_count": 102,
   "metadata": {},
   "outputs": [
    {
     "data": {
      "image/png": "[encoded data removed]",
      "text/plain": [
       "<Figure size 432x288 with 1 Axes>"
      ]
     },
     "metadata": {
      "needs_background": "light"
     },
     "output_type": "display_data"
    }
   ],
   "source": [
    "#check for sig with features #mileage\n",
    "plt.style.use('seaborn-deep')\n",
    "bins = np.linspace(0, 100000, 20)\n",
    "plt.hist(df_craigslist_omaha_not_honda['odometer'], bins, label='not honda')\n",
    "plt.hist(df_craigslist_omaha_honda['odometer'], bins, label='honda')\n",
    "plt.show()"
   ]
  },
  {
   "cell_type": "code",
   "execution_count": 119,
   "metadata": {},
   "outputs": [
    {
     "name": "stdout",
     "output_type": "stream",
     "text": [
      "ford               1262\n",
      "chevrolet          1023\n",
      "nissan              358\n",
      "dodge               347\n",
      "toyota              337\n",
      "honda               313\n",
      "jeep                259\n",
      "gmc                 243\n",
      "ram                 217\n",
      "chrysler            192\n",
      "hyundai             187\n",
      "subaru              143\n",
      "kia                 112\n",
      "buick               112\n",
      "bmw                 104\n",
      "cadillac            104\n",
      "chevy               100\n",
      "mazda                96\n",
      "volkswagen           94\n",
      "pontiac              94\n",
      "lexus                60\n",
      "mercedes-benz        60\n",
      "acura                55\n",
      "infiniti             50\n",
      "audi                 36\n",
      "lincoln              33\n",
      "mitsubishi           31\n",
      "volvo                26\n",
      "rover                24\n",
      "mercury              16\n",
      "mini                 15\n",
      "saturn               13\n",
      "mercedes              8\n",
      "jaguar                8\n",
      "harley-davidson       5\n",
      "vw                    4\n",
      "fiat                  4\n",
      "chev                  2\n",
      "harley                2\n",
      "alfa-romeo            1\n",
      "porche                1\n",
      "infinity              1\n",
      "datsun                1\n",
      "Name: manufacturer, dtype: int64\n"
     ]
    },
    {
     "data": {
      "image/png": "[encoded data removed]",
      "text/plain": [
       "<Figure size 432x288 with 1 Axes>"
      ]
     },
     "metadata": {
      "needs_background": "light"
     },
     "output_type": "display_data"
    }
   ],
   "source": [
    "#counts of honda cars vs other manufacturers\n",
    "\n",
    "df_group_by_manufacturer = df_craigslist_omaha.groupby('manufacturer').count()\n",
    "\n",
    "df_group_by_manufacturer.plot.bar(y='lat')\n",
    "\n",
    "omaha_counts = df_craigslist_omaha['manufacturer'].value_counts()\n",
    "print(omaha_counts)"
   ]
  },
  {
   "cell_type": "code",
   "execution_count": 109,
   "metadata": {},
   "outputs": [
    {
     "data": {
      "text/plain": [
       "<matplotlib.axes._subplots.AxesSubplot at 0x153c02f10>"
      ]
     },
     "execution_count": 109,
     "metadata": {},
     "output_type": "execute_result"
    },
    {
     "data": {
      "image/png": "[encoded data removed]",
      "text/plain": [
       "<Figure size 432x288 with 1 Axes>"
      ]
     },
     "metadata": {
      "needs_background": "light"
     },
     "output_type": "display_data"
    }
   ],
   "source": [
    "#make a comparable dataframe of hondas not on craigslist in Omaha\n",
    "\n",
    "df_craigslist_not_omaha= df_craigslist_vehicles_full_clean[(df_craigslist_vehicles_full_clean.city!='omaha') & (df_craigslist_vehicles_full_clean.state_code!='NE')].sample(n=6490)\n",
    "\n",
    "df_group_by_manufacturer_not_omaha = df_craigslist_not_omaha.groupby('manufacturer').count()\n",
    "\n",
    "df_group_by_manufacturer_not_omaha.plot.bar(y='lat')"
   ]
  },
  {
   "cell_type": "code",
   "execution_count": 150,
   "metadata": {},
   "outputs": [
    {
     "name": "stdout",
     "output_type": "stream",
     "text": [
      "ford               1086\n",
      "chevrolet           789\n",
      "toyota              445\n",
      "honda               337\n",
      "nissan              296\n",
      "dodge               293\n",
      "gmc                 269\n",
      "jeep                257\n",
      "ram                 208\n",
      "bmw                 160\n",
      "chevy               144\n",
      "volkswagen          134\n",
      "subaru              128\n",
      "hyundai             115\n",
      "chrysler            111\n",
      "pontiac             103\n",
      "mazda               103\n",
      "kia                 102\n",
      "cadillac            100\n",
      "buick                87\n",
      "lexus                84\n",
      "mercedes-benz        76\n",
      "acura                71\n",
      "audi                 70\n",
      "volvo                52\n",
      "lincoln              50\n",
      "infiniti             45\n",
      "saturn               43\n",
      "mercury              43\n",
      "mitsubishi           37\n",
      "mini                 37\n",
      "mercedes             35\n",
      "vw                   16\n",
      "rover                14\n",
      "jaguar               14\n",
      "fiat                  9\n",
      "chev                  3\n",
      "harley-davidson       2\n",
      "infinity              2\n",
      "alfa                  1\n",
      "harley                1\n",
      "porche                1\n",
      "ferrari               1\n",
      "aston-martin          1\n",
      "Name: manufacturer, dtype: int64\n"
     ]
    }
   ],
   "source": [
    "df_not_omaha_counts = df_craigslist_not_omaha['manufacturer'].value_counts()\n",
    "print(df_not_omaha_counts)"
   ]
  },
  {
   "cell_type": "code",
   "execution_count": 157,
   "metadata": {},
   "outputs": [],
   "source": [
    "#find the number of hondas listed by city \n",
    "craigslist_honda = df_craigslist_vehicles_full_clean[df_craigslist_vehicles_full_clean.manufacturer=='honda']\n",
    "craigslist_by_city_honda= craigslist_honda.groupby('city')\n",
    "cl_honda = craigslist_by_city.count()\n",
    "\n",
    "#find total number of listings by city\n",
    "\n",
    "craigslist_total_by_city = df_craigslist_vehicles_full_clean.groupby('city')\n",
    "cl_total = craigslist_total_by_city.count()  "
   ]
  },
  {
   "cell_type": "code",
   "execution_count": 170,
   "metadata": {},
   "outputs": [
    {
     "name": "stdout",
     "output_type": "stream",
     "text": [
      "             pricecity  priceprice\n",
      "city                              \n",
      "abbotsford        6579       293.0\n",
      "abilene           1451        41.0\n",
      "akroncanton       7848       345.0\n",
      "albany            7558       539.0\n",
      "albanyga           782        62.0\n",
      "...                ...         ...\n",
      "york              5383       253.0\n",
      "youngstown        5176       163.0\n",
      "yubasutter        7492       690.0\n",
      "yuma              2448       120.0\n",
      "zanesville        1399        64.0\n",
      "\n",
      "[470 rows x 2 columns]\n"
     ]
    },
    {
     "data": {
      "text/plain": [
       "<matplotlib.collections.PathCollection at 0x154da4b50>"
      ]
     },
     "execution_count": 170,
     "metadata": {},
     "output_type": "execute_result"
    },
    {
     "data": {
      "image/png": "[encoded data removed]",
      "text/plain": [
       "<Figure size 432x288 with 1 Axes>"
      ]
     },
     "metadata": {
      "needs_background": "light"
     },
     "output_type": "display_data"
    }
   ],
   "source": [
    "#plot in a scatterplot cl_total price count vs. cl_honda price count\n",
    "\n",
    "honda_count = pd.DataFrame(cl_honda['price'])\n",
    "total_count = pd.DataFrame(cl_total['price'])\n",
    "data_for_graph = total_count.join(honda_count, lsuffix='city', rsuffix='price')\n",
    "\n",
    "print(data_for_graph)\n",
    "\n",
    "plt.scatter(x=data_for_graph['pricecity'], y=data_for_graph['priceprice'])"
   ]
  },
  {
   "cell_type": "code",
   "execution_count": 177,
   "metadata": {},
   "outputs": [
    {
     "name": "stdout",
     "output_type": "stream",
     "text": [
      "              pricecity  priceprice\n",
      "city                               \n",
      "anchorage          8183       265.0\n",
      "appleton           7733       285.0\n",
      "bend               7308       277.0\n",
      "buffalo            7581       240.0\n",
      "columbiamo         7151       195.0\n",
      "detroit            7374       219.0\n",
      "grandrapids        8180       292.0\n",
      "greenbay           7515       202.0\n",
      "lexington          7253       264.0\n",
      "mcallen            7314       144.0\n",
      "oklahomacity       7782       282.0\n",
      "reno               7680       284.0\n",
      "sarasota           7725       279.0\n",
      "spokane            7968       278.0\n",
      "springfield        7495       203.0\n",
      "tulsa              7495       263.0\n",
      "wichita            7715       271.0\n"
     ]
    }
   ],
   "source": [
    "# cities with >7000 total listings and <300 honda listings\n",
    "\n",
    "market_recs= data_for_graph[(data_for_graph['pricecity']>7000)&(data_for_graph['priceprice']<300)]\n",
    "print(market_recs)\n",
    "                "
   ]
  },
  {
   "cell_type": "code",
   "execution_count": null,
   "metadata": {},
   "outputs": [],
   "source": []
  }
 ],
 "metadata": {
  "kernelspec": {
   "display_name": "Python 3",
   "language": "python",
   "name": "python3"
  },
  "language_info": {
   "codemirror_mode": {
    "name": "ipython",
    "version": 3
   },
   "file_extension": ".py",
   "mimetype": "text/x-python",
   "name": "python",
   "nbconvert_exporter": "python",
   "pygments_lexer": "ipython3",
   "version": "3.7.4"
  }
 },
 "nbformat": 4,
 "nbformat_minor": 2
}
